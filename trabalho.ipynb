{
 "cells": [
  {
   "cell_type": "code",
   "execution_count": 13,
   "metadata": {},
   "outputs": [],
   "source": [
    "from nltk import FreqDist\n",
    "import numpy as np\n",
    "from sklearn import svm\n",
    "from sklearn.metrics import confusion_matrix"
   ]
  },
  {
   "cell_type": "code",
   "execution_count": 14,
   "metadata": {},
   "outputs": [],
   "source": [
    "#Função para calcular o tamanho médio das palavras\n",
    "def calcular_tamanho_medio_palavras(frase):\n",
    "    palavras = frase.split()\n",
    "    tamanho_palavras = [len(palavra) for palavra in palavras]\n",
    "    tamanho_medio = np.mean(tamanho_palavras)\n",
    "    return tamanho_medio"
   ]
  },
  {
   "cell_type": "code",
   "execution_count": 15,
   "metadata": {},
   "outputs": [],
   "source": [
    "#Função para calcular a frequência das letras\n",
    "def calcular_frequencia_letras(frase):\n",
    "    frequencia_letras = FreqDist([letra for letra in frase if letra.isalpha()])\n",
    "    return dict(frequencia_letras)"
   ]
  },
  {
   "cell_type": "code",
   "execution_count": 16,
   "metadata": {},
   "outputs": [],
   "source": [
    "#Função para extrair as características de uma frase\n",
    "def extrair_caracteristicas(frase):\n",
    "    frequencias = calcular_frequencia_letras(frase)\n",
    "    tamanho_medio_palavras = calcular_tamanho_medio_palavras(frase)\n",
    "\n",
    "    caracteres_arabicos = [chr(i) for i in range(97, 123)]  #Letras minúsculas de 'a' a 'z'\n",
    "    vetor_caracteristicas = []\n",
    "    \n",
    "    for caract in caracteres_arabicos:\n",
    "        if caract in frequencias:\n",
    "            vetor_caracteristicas.append(frequencias[caract])\n",
    "        else:\n",
    "            vetor_caracteristicas.append(0)\n",
    "    \n",
    "    vetor_caracteristicas.append(tamanho_medio_palavras)\n",
    "    #print (vetor_caracteristicas)\n",
    "    return vetor_caracteristicas"
   ]
  },
  {
   "cell_type": "code",
   "execution_count": 17,
   "metadata": {},
   "outputs": [],
   "source": [
    "#Função auxiliar para criar vetor de características\n",
    "def criar_vetor_caracteristicas(dados):\n",
    "    max_num_caracteristicas = 26 + 1  #26 letras do alfabeto + 1 para o tamanho médio das palavras\n",
    "    matriz_caracteristicas = np.zeros((len(dados), max_num_caracteristicas))\n",
    "    \n",
    "    for i, dado in enumerate(dados):\n",
    "        matriz_caracteristicas[i, :] = dado\n",
    "    #print(matriz_caracteristicas)\n",
    "    return matriz_caracteristicas"
   ]
  },
  {
   "cell_type": "code",
   "execution_count": 18,
   "metadata": {},
   "outputs": [],
   "source": [
    "#Ler os arquivos de texto e criar dicionários de frases para cada idioma\n",
    "dados_treinamento = {\n",
    "    'portugues': [],\n",
    "    'ingles': [],\n",
    "    'italiano': []\n",
    "}\n",
    "with open('portugues.txt', 'r') as arquivo_portugues:\n",
    "    for linha in arquivo_portugues:\n",
    "        linha = linha.strip()\n",
    "        frase = linha.replace(\"Frase:\", \"\").strip()\n",
    "        dados_treinamento['portugues'].append(frase)\n",
    "\n",
    "with open('ingles.txt', 'r') as arquivo_ingles:\n",
    "    for linha in arquivo_ingles:\n",
    "        linha = linha.strip()\n",
    "        frase = linha.replace(\"Frase:\", \"\").strip()\n",
    "        dados_treinamento['ingles'].append(frase)\n",
    "\n",
    "with open('italiano.txt', 'r') as arquivo_italiano:\n",
    "    for linha in arquivo_italiano:\n",
    "        linha = linha.strip()\n",
    "        frase = linha.replace(\"Frase:\", \"\").strip()\n",
    "        dados_treinamento['italiano'].append(frase)"
   ]
  },
  {
   "cell_type": "code",
   "execution_count": 19,
   "metadata": {},
   "outputs": [],
   "source": [
    "#Treinar o modelo SVM\n",
    "treinamento_dados = []\n",
    "treinamento_classes = []\n",
    "for classe, frases in dados_treinamento.items():\n",
    "    for frase in frases:\n",
    "        treinamento_dados.append(extrair_caracteristicas(frase))\n",
    "        treinamento_classes.append(classe)\n",
    "\n",
    "matriz_caracteristicas = criar_vetor_caracteristicas(treinamento_dados)"
   ]
  },
  {
   "cell_type": "code",
   "execution_count": 20,
   "metadata": {},
   "outputs": [
    {
     "data": {
      "text/html": [
       "<style>#sk-container-id-2 {color: black;background-color: white;}#sk-container-id-2 pre{padding: 0;}#sk-container-id-2 div.sk-toggleable {background-color: white;}#sk-container-id-2 label.sk-toggleable__label {cursor: pointer;display: block;width: 100%;margin-bottom: 0;padding: 0.3em;box-sizing: border-box;text-align: center;}#sk-container-id-2 label.sk-toggleable__label-arrow:before {content: \"▸\";float: left;margin-right: 0.25em;color: #696969;}#sk-container-id-2 label.sk-toggleable__label-arrow:hover:before {color: black;}#sk-container-id-2 div.sk-estimator:hover label.sk-toggleable__label-arrow:before {color: black;}#sk-container-id-2 div.sk-toggleable__content {max-height: 0;max-width: 0;overflow: hidden;text-align: left;background-color: #f0f8ff;}#sk-container-id-2 div.sk-toggleable__content pre {margin: 0.2em;color: black;border-radius: 0.25em;background-color: #f0f8ff;}#sk-container-id-2 input.sk-toggleable__control:checked~div.sk-toggleable__content {max-height: 200px;max-width: 100%;overflow: auto;}#sk-container-id-2 input.sk-toggleable__control:checked~label.sk-toggleable__label-arrow:before {content: \"▾\";}#sk-container-id-2 div.sk-estimator input.sk-toggleable__control:checked~label.sk-toggleable__label {background-color: #d4ebff;}#sk-container-id-2 div.sk-label input.sk-toggleable__control:checked~label.sk-toggleable__label {background-color: #d4ebff;}#sk-container-id-2 input.sk-hidden--visually {border: 0;clip: rect(1px 1px 1px 1px);clip: rect(1px, 1px, 1px, 1px);height: 1px;margin: -1px;overflow: hidden;padding: 0;position: absolute;width: 1px;}#sk-container-id-2 div.sk-estimator {font-family: monospace;background-color: #f0f8ff;border: 1px dotted black;border-radius: 0.25em;box-sizing: border-box;margin-bottom: 0.5em;}#sk-container-id-2 div.sk-estimator:hover {background-color: #d4ebff;}#sk-container-id-2 div.sk-parallel-item::after {content: \"\";width: 100%;border-bottom: 1px solid gray;flex-grow: 1;}#sk-container-id-2 div.sk-label:hover label.sk-toggleable__label {background-color: #d4ebff;}#sk-container-id-2 div.sk-serial::before {content: \"\";position: absolute;border-left: 1px solid gray;box-sizing: border-box;top: 0;bottom: 0;left: 50%;z-index: 0;}#sk-container-id-2 div.sk-serial {display: flex;flex-direction: column;align-items: center;background-color: white;padding-right: 0.2em;padding-left: 0.2em;position: relative;}#sk-container-id-2 div.sk-item {position: relative;z-index: 1;}#sk-container-id-2 div.sk-parallel {display: flex;align-items: stretch;justify-content: center;background-color: white;position: relative;}#sk-container-id-2 div.sk-item::before, #sk-container-id-2 div.sk-parallel-item::before {content: \"\";position: absolute;border-left: 1px solid gray;box-sizing: border-box;top: 0;bottom: 0;left: 50%;z-index: -1;}#sk-container-id-2 div.sk-parallel-item {display: flex;flex-direction: column;z-index: 1;position: relative;background-color: white;}#sk-container-id-2 div.sk-parallel-item:first-child::after {align-self: flex-end;width: 50%;}#sk-container-id-2 div.sk-parallel-item:last-child::after {align-self: flex-start;width: 50%;}#sk-container-id-2 div.sk-parallel-item:only-child::after {width: 0;}#sk-container-id-2 div.sk-dashed-wrapped {border: 1px dashed gray;margin: 0 0.4em 0.5em 0.4em;box-sizing: border-box;padding-bottom: 0.4em;background-color: white;}#sk-container-id-2 div.sk-label label {font-family: monospace;font-weight: bold;display: inline-block;line-height: 1.2em;}#sk-container-id-2 div.sk-label-container {text-align: center;}#sk-container-id-2 div.sk-container {/* jupyter's `normalize.less` sets `[hidden] { display: none; }` but bootstrap.min.css set `[hidden] { display: none !important; }` so we also need the `!important` here to be able to override the default hidden behavior on the sphinx rendered scikit-learn.org. See: https://github.com/scikit-learn/scikit-learn/issues/21755 */display: inline-block !important;position: relative;}#sk-container-id-2 div.sk-text-repr-fallback {display: none;}</style><div id=\"sk-container-id-2\" class=\"sk-top-container\"><div class=\"sk-text-repr-fallback\"><pre>SVC()</pre><b>In a Jupyter environment, please rerun this cell to show the HTML representation or trust the notebook. <br />On GitHub, the HTML representation is unable to render, please try loading this page with nbviewer.org.</b></div><div class=\"sk-container\" hidden><div class=\"sk-item\"><div class=\"sk-estimator sk-toggleable\"><input class=\"sk-toggleable__control sk-hidden--visually\" id=\"sk-estimator-id-2\" type=\"checkbox\" checked><label for=\"sk-estimator-id-2\" class=\"sk-toggleable__label sk-toggleable__label-arrow\">SVC</label><div class=\"sk-toggleable__content\"><pre>SVC()</pre></div></div></div></div></div>"
      ],
      "text/plain": [
       "SVC()"
      ]
     },
     "execution_count": 20,
     "metadata": {},
     "output_type": "execute_result"
    }
   ],
   "source": [
    "#Treinar o modelo SVM\n",
    "modelo = svm.SVC()\n",
    "modelo.fit(matriz_caracteristicas, treinamento_classes)"
   ]
  },
  {
   "attachments": {},
   "cell_type": "markdown",
   "metadata": {},
   "source": [
    "TESTAR"
   ]
  },
  {
   "cell_type": "code",
   "execution_count": 21,
   "metadata": {},
   "outputs": [],
   "source": [
    "#Ler o arquivo de testes\n",
    "dados_teste = []\n",
    "\n",
    "with open('teste.txt', 'r') as arquivo_teste:\n",
    "    for linha in arquivo_teste:\n",
    "        linha = linha.strip()\n",
    "        frase = linha.replace(\"Frase:\", \"\").strip()\n",
    "        dados_teste.append(frase)"
   ]
  },
  {
   "cell_type": "code",
   "execution_count": 22,
   "metadata": {},
   "outputs": [
    {
     "name": "stdout",
     "output_type": "stream",
     "text": [
      "Texto: The sun is shining today.\n",
      "Idioma: ingles\n",
      "------------------------\n",
      "Texto: I like to eat pizza.\n",
      "Idioma: ingles\n",
      "------------------------\n",
      "Texto: He is a good friend.\n",
      "Idioma: ingles\n",
      "------------------------\n",
      "Texto: Life is beautiful.\n",
      "Idioma: ingles\n",
      "------------------------\n",
      "Texto: I need to go to the supermarket.\n",
      "Idioma: ingles\n",
      "------------------------\n",
      "Texto: My team won the game.\n",
      "Idioma: ingles\n",
      "------------------------\n",
      "Texto: I'm studying for the exam.\n",
      "Idioma: ingles\n",
      "------------------------\n",
      "Texto: I love traveling to the beach.\n",
      "Idioma: ingles\n",
      "------------------------\n",
      "Texto: My family is very close.\n",
      "Idioma: ingles\n",
      "------------------------\n",
      "Texto: Music makes me happy.\n",
      "Idioma: ingles\n",
      "------------------------\n",
      "Texto: Today is a beautiful day.\n",
      "Idioma: ingles\n",
      "------------------------\n",
      "Texto: Let's go out for dinner.\n",
      "Idioma: ingles\n",
      "------------------------\n",
      "Texto: I'm tired of work.\n",
      "Idioma: ingles\n",
      "------------------------\n",
      "Texto: I want to learn to play the guitar.\n",
      "Idioma: ingles\n",
      "------------------------\n",
      "Texto: I love reading suspense books.\n",
      "Idioma: portugues\n",
      "------------------------\n",
      "Texto: Il sole sta splendendo oggi.\n",
      "Idioma: ingles\n",
      "------------------------\n",
      "Texto: Mi piace mangiare la pizza.\n",
      "Idioma: italiano\n",
      "------------------------\n",
      "Texto: Lui e un buon amico.\n",
      "Idioma: portugues\n",
      "------------------------\n",
      "Texto: La vita e bella.\n",
      "Idioma: italiano\n",
      "------------------------\n",
      "Texto: Ho bisogno di andare al supermercato.\n",
      "Idioma: portugues\n",
      "------------------------\n",
      "Texto: La mia squadra ha vinto la partita.\n",
      "Idioma: portugues\n",
      "------------------------\n",
      "Texto: Sto studiando per l'esame.\n",
      "Idioma: portugues\n",
      "------------------------\n",
      "Texto: Adoro viaggiare al mare.\n",
      "Idioma: portugues\n",
      "------------------------\n",
      "Texto: La mia famiglia e molto unita.\n",
      "Idioma: italiano\n",
      "------------------------\n",
      "Texto: La musica mi rende felice.\n",
      "Idioma: portugues\n",
      "------------------------\n",
      "Texto: Oggi e una bella giornata.\n",
      "Idioma: italiano\n",
      "------------------------\n",
      "Texto: Usciamo a cena.\n",
      "Idioma: portugues\n",
      "------------------------\n",
      "Texto: Sono stanco del lavoro.\n",
      "Idioma: italiano\n",
      "------------------------\n",
      "Texto: Voglio imparare a suonare la chitarra.\n",
      "Idioma: italiano\n",
      "------------------------\n",
      "Texto: Amo leggere libri di suspense.\n",
      "Idioma: ingles\n",
      "------------------------\n",
      "Texto: O sol esta brilhando hoje.\n",
      "Idioma: portugues\n",
      "------------------------\n",
      "Texto: Eu gosto de comer pizza.\n",
      "Idioma: portugues\n",
      "------------------------\n",
      "Texto: Ele e um bom amigo.\n",
      "Idioma: portugues\n",
      "------------------------\n",
      "Texto: A vida e bela.\n",
      "Idioma: portugues\n",
      "------------------------\n",
      "Texto: Preciso ir ao supermercado.\n",
      "Idioma: portugues\n",
      "------------------------\n",
      "Texto: Meu time ganhou o jogo.\n",
      "Idioma: portugues\n",
      "------------------------\n",
      "Texto: Estou estudando para o exame.\n",
      "Idioma: portugues\n",
      "------------------------\n",
      "Texto: Adoro viajar para a praia.\n",
      "Idioma: portugues\n",
      "------------------------\n",
      "Texto: Minha familia e muito unida.\n",
      "Idioma: italiano\n",
      "------------------------\n",
      "Texto: A musica me faz sorrir.\n",
      "Idioma: portugues\n",
      "------------------------\n",
      "Texto: O dia hoje esta lindo.\n",
      "Idioma: portugues\n",
      "------------------------\n",
      "Texto: Vamos sair para jantar.\n",
      "Idioma: portugues\n",
      "------------------------\n",
      "Texto: Estou cansado do trabalho.\n",
      "Idioma: portugues\n",
      "------------------------\n",
      "Texto: Quero aprender a tocar violao.\n",
      "Idioma: portugues\n",
      "------------------------\n",
      "Texto: O livro de suspense e bom.\n",
      "Idioma: portugues\n",
      "------------------------\n"
     ]
    }
   ],
   "source": [
    "#Classificar as frases de teste\n",
    "teste_classes = ['ingles', 'ingles', 'ingles', 'ingles', 'ingles', 'ingles', 'ingles', 'ingles', 'ingles', 'ingles', 'ingles', 'ingles', 'ingles', 'ingles', 'ingles', 'italiano', 'italiano', 'italiano', 'italiano', 'italiano', 'italiano', 'italiano', 'italiano', 'italiano', 'italiano', 'italiano', 'italiano','italiano','italiano','italiano','portugues','portugues','portugues','portugues','portugues','portugues','portugues','portugues','portugues','portugues','portugues','portugues','portugues','portugues','portugues']\n",
    "\n",
    "predicoes = []  #Lista para armazenar as classes previstas pelo modelo\n",
    "\n",
    "for dado in dados_teste:\n",
    "    caracteristicas = extrair_caracteristicas(dado)\n",
    "    vetor_caracteristicas_teste = criar_vetor_caracteristicas([caracteristicas])\n",
    "    resultado = modelo.predict(vetor_caracteristicas_teste)\n",
    "\n",
    "    predicoes.append(resultado[0])  #Armazenar a classe prevista pelo modelo\n",
    "    \n",
    "    print(\"Texto:\", dado)\n",
    "    print(\"Idioma:\", resultado[0])\n",
    "    print(\"------------------------\")\n"
   ]
  },
  {
   "cell_type": "code",
   "execution_count": 24,
   "metadata": {},
   "outputs": [
    {
     "name": "stdout",
     "output_type": "stream",
     "text": [
      "['ingles', 'ingles', 'ingles', 'ingles', 'ingles', 'ingles', 'ingles', 'ingles', 'ingles', 'ingles', 'ingles', 'ingles', 'ingles', 'ingles', 'ingles', 'italiano', 'italiano', 'italiano', 'italiano', 'italiano', 'italiano', 'italiano', 'italiano', 'italiano', 'italiano', 'italiano', 'italiano', 'italiano', 'italiano', 'italiano', 'portugues', 'portugues', 'portugues', 'portugues', 'portugues', 'portugues', 'portugues', 'portugues', 'portugues', 'portugues', 'portugues', 'portugues', 'portugues', 'portugues', 'portugues', 'ingles', 'ingles', 'ingles', 'ingles', 'ingles', 'ingles', 'ingles', 'ingles', 'ingles', 'ingles', 'ingles', 'ingles', 'ingles', 'ingles', 'portugues', 'ingles', 'italiano', 'portugues', 'italiano', 'portugues', 'portugues', 'portugues', 'portugues', 'italiano', 'portugues', 'italiano', 'portugues', 'italiano', 'italiano', 'ingles', 'portugues', 'portugues', 'portugues', 'portugues', 'portugues', 'portugues', 'portugues', 'portugues', 'italiano', 'portugues', 'portugues', 'portugues', 'portugues', 'portugues', 'portugues']\n"
     ]
    },
    {
     "ename": "ValueError",
     "evalue": "Found input variables with inconsistent numbers of samples: [90, 45]",
     "output_type": "error",
     "traceback": [
      "\u001b[1;31m---------------------------------------------------------------------------\u001b[0m",
      "\u001b[1;31mValueError\u001b[0m                                Traceback (most recent call last)",
      "Cell \u001b[1;32mIn[24], line 3\u001b[0m\n\u001b[0;32m      1\u001b[0m \u001b[39m#Gerar matriz de confusão\u001b[39;00m\n\u001b[0;32m      2\u001b[0m \u001b[39mprint\u001b[39m(teste_classes)\n\u001b[1;32m----> 3\u001b[0m matriz_confusao \u001b[39m=\u001b[39m confusion_matrix(teste_classes, predicoes)\n\u001b[0;32m      4\u001b[0m \u001b[39mprint\u001b[39m(\u001b[39m\"\u001b[39m\u001b[39mMatriz de Confusão:\u001b[39m\u001b[39m\"\u001b[39m)\n\u001b[0;32m      5\u001b[0m \u001b[39mprint\u001b[39m(matriz_confusao)\n",
      "File \u001b[1;32mc:\\Users\\Pedro\\AppData\\Local\\Programs\\Python\\Python311\\Lib\\site-packages\\sklearn\\metrics\\_classification.py:317\u001b[0m, in \u001b[0;36mconfusion_matrix\u001b[1;34m(y_true, y_pred, labels, sample_weight, normalize)\u001b[0m\n\u001b[0;32m    232\u001b[0m \u001b[39mdef\u001b[39;00m \u001b[39mconfusion_matrix\u001b[39m(\n\u001b[0;32m    233\u001b[0m     y_true, y_pred, \u001b[39m*\u001b[39m, labels\u001b[39m=\u001b[39m\u001b[39mNone\u001b[39;00m, sample_weight\u001b[39m=\u001b[39m\u001b[39mNone\u001b[39;00m, normalize\u001b[39m=\u001b[39m\u001b[39mNone\u001b[39;00m\n\u001b[0;32m    234\u001b[0m ):\n\u001b[0;32m    235\u001b[0m \u001b[39m    \u001b[39m\u001b[39m\"\"\"Compute confusion matrix to evaluate the accuracy of a classification.\u001b[39;00m\n\u001b[0;32m    236\u001b[0m \n\u001b[0;32m    237\u001b[0m \u001b[39m    By definition a confusion matrix :math:`C` is such that :math:`C_{i, j}`\u001b[39;00m\n\u001b[1;32m   (...)\u001b[0m\n\u001b[0;32m    315\u001b[0m \u001b[39m    (0, 2, 1, 1)\u001b[39;00m\n\u001b[0;32m    316\u001b[0m \u001b[39m    \"\"\"\u001b[39;00m\n\u001b[1;32m--> 317\u001b[0m     y_type, y_true, y_pred \u001b[39m=\u001b[39m _check_targets(y_true, y_pred)\n\u001b[0;32m    318\u001b[0m     \u001b[39mif\u001b[39;00m y_type \u001b[39mnot\u001b[39;00m \u001b[39min\u001b[39;00m (\u001b[39m\"\u001b[39m\u001b[39mbinary\u001b[39m\u001b[39m\"\u001b[39m, \u001b[39m\"\u001b[39m\u001b[39mmulticlass\u001b[39m\u001b[39m\"\u001b[39m):\n\u001b[0;32m    319\u001b[0m         \u001b[39mraise\u001b[39;00m \u001b[39mValueError\u001b[39;00m(\u001b[39m\"\u001b[39m\u001b[39m%s\u001b[39;00m\u001b[39m is not supported\u001b[39m\u001b[39m\"\u001b[39m \u001b[39m%\u001b[39m y_type)\n",
      "File \u001b[1;32mc:\\Users\\Pedro\\AppData\\Local\\Programs\\Python\\Python311\\Lib\\site-packages\\sklearn\\metrics\\_classification.py:86\u001b[0m, in \u001b[0;36m_check_targets\u001b[1;34m(y_true, y_pred)\u001b[0m\n\u001b[0;32m     59\u001b[0m \u001b[39mdef\u001b[39;00m \u001b[39m_check_targets\u001b[39m(y_true, y_pred):\n\u001b[0;32m     60\u001b[0m \u001b[39m    \u001b[39m\u001b[39m\"\"\"Check that y_true and y_pred belong to the same classification task.\u001b[39;00m\n\u001b[0;32m     61\u001b[0m \n\u001b[0;32m     62\u001b[0m \u001b[39m    This converts multiclass or binary types to a common shape, and raises a\u001b[39;00m\n\u001b[1;32m   (...)\u001b[0m\n\u001b[0;32m     84\u001b[0m \u001b[39m    y_pred : array or indicator matrix\u001b[39;00m\n\u001b[0;32m     85\u001b[0m \u001b[39m    \"\"\"\u001b[39;00m\n\u001b[1;32m---> 86\u001b[0m     check_consistent_length(y_true, y_pred)\n\u001b[0;32m     87\u001b[0m     type_true \u001b[39m=\u001b[39m type_of_target(y_true, input_name\u001b[39m=\u001b[39m\u001b[39m\"\u001b[39m\u001b[39my_true\u001b[39m\u001b[39m\"\u001b[39m)\n\u001b[0;32m     88\u001b[0m     type_pred \u001b[39m=\u001b[39m type_of_target(y_pred, input_name\u001b[39m=\u001b[39m\u001b[39m\"\u001b[39m\u001b[39my_pred\u001b[39m\u001b[39m\"\u001b[39m)\n",
      "File \u001b[1;32mc:\\Users\\Pedro\\AppData\\Local\\Programs\\Python\\Python311\\Lib\\site-packages\\sklearn\\utils\\validation.py:397\u001b[0m, in \u001b[0;36mcheck_consistent_length\u001b[1;34m(*arrays)\u001b[0m\n\u001b[0;32m    395\u001b[0m uniques \u001b[39m=\u001b[39m np\u001b[39m.\u001b[39munique(lengths)\n\u001b[0;32m    396\u001b[0m \u001b[39mif\u001b[39;00m \u001b[39mlen\u001b[39m(uniques) \u001b[39m>\u001b[39m \u001b[39m1\u001b[39m:\n\u001b[1;32m--> 397\u001b[0m     \u001b[39mraise\u001b[39;00m \u001b[39mValueError\u001b[39;00m(\n\u001b[0;32m    398\u001b[0m         \u001b[39m\"\u001b[39m\u001b[39mFound input variables with inconsistent numbers of samples: \u001b[39m\u001b[39m%r\u001b[39;00m\u001b[39m\"\u001b[39m\n\u001b[0;32m    399\u001b[0m         \u001b[39m%\u001b[39m [\u001b[39mint\u001b[39m(l) \u001b[39mfor\u001b[39;00m l \u001b[39min\u001b[39;00m lengths]\n\u001b[0;32m    400\u001b[0m     )\n",
      "\u001b[1;31mValueError\u001b[0m: Found input variables with inconsistent numbers of samples: [90, 45]"
     ]
    }
   ],
   "source": [
    "#Gerar matriz de confusão\n",
    "print(teste_classes)\n",
    "matriz_confusao = confusion_matrix(teste_classes, predicoes)\n",
    "print(\"Matriz de Confusão:\")\n",
    "print(matriz_confusao)"
   ]
  },
  {
   "cell_type": "code",
   "execution_count": null,
   "metadata": {},
   "outputs": [],
   "source": [
    "#Pedir ao usuário para inserir um novo texto\n",
    "texto_desconhecido = input(\"Digite um novo texto: \")"
   ]
  },
  {
   "cell_type": "code",
   "execution_count": null,
   "metadata": {},
   "outputs": [],
   "source": [
    "#Extrair as características do texto desconhecido\n",
    "caracteristicas_texto_desconhecido = extrair_caracteristicas(texto_desconhecido)\n",
    "vetor_caracteristicas_desconhecido = criar_vetor_caracteristicas([caracteristicas_texto_desconhecido])\n",
    "\n",
    "#Classificar o texto desconhecido\n",
    "resultado_desconhecido = modelo.predict(vetor_caracteristicas_desconhecido)\n",
    "\n",
    "#Apresentar a língua indicada pelo modelo\n",
    "print(\"Língua indicada pelo modelo:\", resultado_desconhecido[0])"
   ]
  }
 ],
 "metadata": {
  "kernelspec": {
   "display_name": "Python 3",
   "language": "python",
   "name": "python3"
  },
  "language_info": {
   "codemirror_mode": {
    "name": "ipython",
    "version": 3
   },
   "file_extension": ".py",
   "mimetype": "text/x-python",
   "name": "python",
   "nbconvert_exporter": "python",
   "pygments_lexer": "ipython3",
   "version": "3.11.4"
  },
  "orig_nbformat": 4
 },
 "nbformat": 4,
 "nbformat_minor": 2
}
